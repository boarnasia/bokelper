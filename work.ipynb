{
 "cells": [
  {
   "cell_type": "markdown",
   "metadata": {},
   "source": [
    "# Install"
   ]
  },
  {
   "cell_type": "code",
   "execution_count": 1,
   "metadata": {},
   "outputs": [
    {
     "name": "stdout",
     "output_type": "stream",
     "text": [
      "Obtaining file:///home/jovyan/work/lib_bokeh\n",
      "Requirement already satisfied: bokeh~=1.1.0 in /opt/conda/lib/python3.7/site-packages (from bokelper==0.1.3) (1.1.0)\n",
      "Requirement already satisfied: pytest~=4.4.0 in /opt/conda/lib/python3.7/site-packages (from bokelper==0.1.3) (4.4.2)\n",
      "Requirement already satisfied: pytest-cov~=2.6.1 in /opt/conda/lib/python3.7/site-packages (from bokelper==0.1.3) (2.6.1)\n",
      "Requirement already satisfied: pytest-mypy~=0.3.2 in /opt/conda/lib/python3.7/site-packages (from bokelper==0.1.3) (0.3.2)\n",
      "Requirement already satisfied: pytest-flake8~=1.0.4 in /opt/conda/lib/python3.7/site-packages (from bokelper==0.1.3) (1.0.4)\n",
      "Requirement already satisfied: packaging>=16.8 in /opt/conda/lib/python3.7/site-packages (from bokeh~=1.1.0->bokelper==0.1.3) (19.0)\n",
      "Requirement already satisfied: numpy>=1.7.1 in /opt/conda/lib/python3.7/site-packages (from bokeh~=1.1.0->bokelper==0.1.3) (1.16.3)\n",
      "Requirement already satisfied: PyYAML>=3.10 in /opt/conda/lib/python3.7/site-packages (from bokeh~=1.1.0->bokelper==0.1.3) (5.1)\n",
      "Requirement already satisfied: Jinja2>=2.7 in /opt/conda/lib/python3.7/site-packages (from bokeh~=1.1.0->bokelper==0.1.3) (2.10.1)\n",
      "Requirement already satisfied: tornado>=4.3 in /opt/conda/lib/python3.7/site-packages (from bokeh~=1.1.0->bokelper==0.1.3) (6.0.2)\n",
      "Requirement already satisfied: python-dateutil>=2.1 in /opt/conda/lib/python3.7/site-packages (from bokeh~=1.1.0->bokelper==0.1.3) (2.8.0)\n",
      "Requirement already satisfied: pillow>=4.0 in /opt/conda/lib/python3.7/site-packages (from bokeh~=1.1.0->bokelper==0.1.3) (6.0.0)\n",
      "Requirement already satisfied: six>=1.5.2 in /opt/conda/lib/python3.7/site-packages (from bokeh~=1.1.0->bokelper==0.1.3) (1.12.0)\n",
      "Requirement already satisfied: py>=1.5.0 in /opt/conda/lib/python3.7/site-packages (from pytest~=4.4.0->bokelper==0.1.3) (1.8.0)\n",
      "Requirement already satisfied: atomicwrites>=1.0 in /opt/conda/lib/python3.7/site-packages (from pytest~=4.4.0->bokelper==0.1.3) (1.3.0)\n",
      "Requirement already satisfied: pluggy>=0.11 in /opt/conda/lib/python3.7/site-packages (from pytest~=4.4.0->bokelper==0.1.3) (0.11.0)\n",
      "Requirement already satisfied: setuptools in /opt/conda/lib/python3.7/site-packages (from pytest~=4.4.0->bokelper==0.1.3) (41.0.1)\n",
      "Requirement already satisfied: more-itertools>=4.0.0; python_version > \"2.7\" in /opt/conda/lib/python3.7/site-packages (from pytest~=4.4.0->bokelper==0.1.3) (7.0.0)\n",
      "Requirement already satisfied: attrs>=17.4.0 in /opt/conda/lib/python3.7/site-packages (from pytest~=4.4.0->bokelper==0.1.3) (19.1.0)\n",
      "Requirement already satisfied: coverage>=4.4 in /opt/conda/lib/python3.7/site-packages (from pytest-cov~=2.6.1->bokelper==0.1.3) (4.5.3)\n",
      "Requirement already satisfied: mypy~=0.570 in /opt/conda/lib/python3.7/site-packages (from pytest-mypy~=0.3.2->bokelper==0.1.3) (0.701)\n",
      "Requirement already satisfied: flake8>=3.5 in /opt/conda/lib/python3.7/site-packages (from pytest-flake8~=1.0.4->bokelper==0.1.3) (3.7.7)\n",
      "Requirement already satisfied: pyparsing>=2.0.2 in /opt/conda/lib/python3.7/site-packages (from packaging>=16.8->bokeh~=1.1.0->bokelper==0.1.3) (2.4.0)\n",
      "Requirement already satisfied: MarkupSafe>=0.23 in /opt/conda/lib/python3.7/site-packages (from Jinja2>=2.7->bokeh~=1.1.0->bokelper==0.1.3) (1.1.1)\n",
      "Requirement already satisfied: mypy-extensions<0.5.0,>=0.4.0 in /opt/conda/lib/python3.7/site-packages (from mypy~=0.570->pytest-mypy~=0.3.2->bokelper==0.1.3) (0.4.1)\n",
      "Requirement already satisfied: typed-ast<1.4.0,>=1.3.1 in /opt/conda/lib/python3.7/site-packages (from mypy~=0.570->pytest-mypy~=0.3.2->bokelper==0.1.3) (1.3.5)\n",
      "Requirement already satisfied: pycodestyle<2.6.0,>=2.5.0 in /opt/conda/lib/python3.7/site-packages (from flake8>=3.5->pytest-flake8~=1.0.4->bokelper==0.1.3) (2.5.0)\n",
      "Requirement already satisfied: mccabe<0.7.0,>=0.6.0 in /opt/conda/lib/python3.7/site-packages (from flake8>=3.5->pytest-flake8~=1.0.4->bokelper==0.1.3) (0.6.1)\n",
      "Requirement already satisfied: entrypoints<0.4.0,>=0.3.0 in /opt/conda/lib/python3.7/site-packages (from flake8>=3.5->pytest-flake8~=1.0.4->bokelper==0.1.3) (0.3)\n",
      "Requirement already satisfied: pyflakes<2.2.0,>=2.1.0 in /opt/conda/lib/python3.7/site-packages (from flake8>=3.5->pytest-flake8~=1.0.4->bokelper==0.1.3) (2.1.1)\n",
      "Installing collected packages: bokelper\n",
      "  Found existing installation: bokelper 0.1.2\n",
      "    Uninstalling bokelper-0.1.2:\n",
      "      Successfully uninstalled bokelper-0.1.2\n",
      "  Running setup.py develop for bokelper\n",
      "Successfully installed bokelper\n"
     ]
    }
   ],
   "source": [
    "!pip install -e .[test]"
   ]
  },
  {
   "cell_type": "markdown",
   "metadata": {},
   "source": [
    "# Test "
   ]
  },
  {
   "cell_type": "code",
   "execution_count": 2,
   "metadata": {},
   "outputs": [
    {
     "name": "stdout",
     "output_type": "stream",
     "text": [
      "\u001b[1m============================= test session starts ==============================\u001b[0m\n",
      "platform linux -- Python 3.7.3, pytest-4.4.2, py-1.8.0, pluggy-0.11.0\n",
      "rootdir: /home/jovyan/work/lib_bokeh, inifile: setup.cfg\n",
      "plugins: mypy-0.3.2, flake8-1.0.4, cov-2.6.1\n",
      "collected 18 items                                                             \u001b[0m\n",
      "\n",
      "setup.py \u001b[33ms\u001b[0m\u001b[32m.\u001b[0m\u001b[36m                                                              [ 11%]\u001b[0m\n",
      "bokelper/__init__.py \u001b[32m.\u001b[0m\u001b[32m.\u001b[0m\u001b[36m                                                  [ 22%]\u001b[0m\n",
      "bokelper/figure.py \u001b[33ms\u001b[0m\u001b[32m.\u001b[0m\u001b[36m                                                    [ 33%]\u001b[0m\n",
      "bokelper/keras.py \u001b[33ms\u001b[0m\u001b[32m.\u001b[0m\u001b[36m                                                     [ 44%]\u001b[0m\n",
      "tests/bokelper/test_bokelper.py \u001b[33ms\u001b[0m\u001b[32m.\u001b[0m\u001b[32m.\u001b[0m\u001b[32m.\u001b[0m\u001b[36m                                     [ 66%]\u001b[0m\n",
      "tests/bokelper/test_figure.py \u001b[33ms\u001b[0m\u001b[32m.\u001b[0m\u001b[32m.\u001b[0m\u001b[32m.\u001b[0m\u001b[32m.\u001b[0m\u001b[32m.\u001b[0m\u001b[36m                                     [100%]\u001b[0m\n",
      "\n",
      "\u001b[33m=============================== warnings summary ===============================\u001b[0m\n",
      "/opt/conda/lib/python3.7/site-packages/jinja2/utils.py:485\n",
      "  /opt/conda/lib/python3.7/site-packages/jinja2/utils.py:485: DeprecationWarning: Using or importing the ABCs from 'collections' instead of from 'collections.abc' is deprecated, and in 3.8 it will stop working\n",
      "    from collections import MutableMapping\n",
      "\n",
      "/opt/conda/lib/python3.7/site-packages/jinja2/runtime.py:318\n",
      "  /opt/conda/lib/python3.7/site-packages/jinja2/runtime.py:318: DeprecationWarning: Using or importing the ABCs from 'collections' instead of from 'collections.abc' is deprecated, and in 3.8 it will stop working\n",
      "    from collections import Mapping\n",
      "\n",
      "-- Docs: https://docs.pytest.org/en/latest/warnings.html\n",
      "\n",
      "----------- coverage: platform linux, python 3.7.3-final-0 -----------\n",
      "Name                   Stmts   Miss  Cover\n",
      "------------------------------------------\n",
      "bokelper/__init__.py      16      0   100%\n",
      "bokelper/figure.py        70      3    96%\n",
      "bokelper/keras.py         19     19     0%\n",
      "------------------------------------------\n",
      "TOTAL                    105     22    79%\n",
      "\n",
      "\u001b[33m\u001b[1m=============== 13 passed, 5 skipped, 2 warnings in 3.18 seconds ===============\u001b[0m\n"
     ]
    }
   ],
   "source": [
    "!pytest"
   ]
  },
  {
   "cell_type": "code",
   "execution_count": null,
   "metadata": {},
   "outputs": [],
   "source": []
  }
 ],
 "metadata": {
  "kernelspec": {
   "display_name": "Python 3",
   "language": "python",
   "name": "python3"
  },
  "language_info": {
   "codemirror_mode": {
    "name": "ipython",
    "version": 3
   },
   "file_extension": ".py",
   "mimetype": "text/x-python",
   "name": "python",
   "nbconvert_exporter": "python",
   "pygments_lexer": "ipython3",
   "version": "3.7.3"
  }
 },
 "nbformat": 4,
 "nbformat_minor": 2
}
